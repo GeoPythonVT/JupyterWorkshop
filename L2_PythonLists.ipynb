{
 "cells": [
  {
   "cell_type": "markdown",
   "metadata": {},
   "source": [
    "### Web-based Tools for Teaching and Research: Jupyter Notebooks and GitHub\n",
    "A workshop of the Academy of Data Sciences at the College of Science\n",
    "## Jupyter Notebooks & Python\n",
    "\n",
    "Susanna Werth\n",
    "\n",
    "---\n",
    "\n",
    "# Lesson 2: Storing Multiple Values in Lists\n",
    "This lesson is following the carpentry tutorial \"Programming with Python\":\n",
    "https://software-carpentry.org/lessons/\n",
    "\n",
    "---"
   ]
  },
  {
   "cell_type": "markdown",
   "metadata": {},
   "source": [
    "## Python Lists\n",
    "\n",
    "We create a **list** by putting values inside **square brackets** and separating the values with commas:"
   ]
  },
  {
   "cell_type": "code",
   "execution_count": null,
   "metadata": {},
   "outputs": [],
   "source": [
    "\n"
   ]
  },
  {
   "cell_type": "markdown",
   "metadata": {},
   "source": [
    "We can access elements of a list using **indices** – numbered positions of elements in the list. These positions are numbered starting at 0, so the first element has an index of 0:"
   ]
  },
  {
   "cell_type": "code",
   "execution_count": null,
   "metadata": {},
   "outputs": [],
   "source": [
    "\n",
    "\n"
   ]
  },
  {
   "cell_type": "markdown",
   "metadata": {},
   "source": [
    "Yes, we can use negative numbers as indices in Python. When we do so, the index `-1` gives us the last element in the list, `-2` the second to last, and so on. \n",
    "\n",
    "Because of this, `odds[3]` and `odds[-1]` point to the same element here.\n",
    "\n",
    "### Mutability of objects\n",
    "\n",
    "There is one important difference between lists and strings, called **mutability**: we can change the values in a list, but we cannot change individual characters in a string. \n",
    "\n",
    "For example:"
   ]
  },
  {
   "cell_type": "code",
   "execution_count": null,
   "metadata": {},
   "outputs": [],
   "source": [
    "\n",
    "\n",
    "\n"
   ]
  },
  {
   "cell_type": "markdown",
   "metadata": {},
   "source": [
    "works, but:"
   ]
  },
  {
   "cell_type": "code",
   "execution_count": null,
   "metadata": {},
   "outputs": [],
   "source": [
    "\n"
   ]
  },
  {
   "cell_type": "markdown",
   "metadata": {},
   "source": [
    "You receive a `TypeError`, because `string` object types are immutable, and they cannot be changed."
   ]
  },
  {
   "cell_type": "markdown",
   "metadata": {},
   "source": [
    "#### Note\n",
    "\n",
    "Strings and numbers are **immutable**. Lists and arrays (next lesson) are **mutable**: we can modify them after they have been created. \n",
    "\n",
    "For lists, we can change individual elements, append new elements, or reorder the whole list. For some operations, like sorting, we can choose whether to use a function that modifies the data in-place or a function that returns a modified copy and leaves the original unchanged."
   ]
  },
  {
   "cell_type": "markdown",
   "metadata": {},
   "source": [
    "Be careful when modifying data in-place. If two variables refer to the same list, and you modify the list value, it will change for both variables!"
   ]
  },
  {
   "cell_type": "code",
   "execution_count": 1,
   "metadata": {},
   "outputs": [],
   "source": [
    "# assigning a list\n",
    "salsa = ['peppers', 'onions', 'cilantro', 'tomatoes']  \n",
    "\n",
    "# copy salsa to my_salsa\n",
    "\n",
    "# now, my_salsa and salsa point to the *same* list data in memory\n",
    "\n",
    "\n"
   ]
  },
  {
   "cell_type": "markdown",
   "metadata": {},
   "source": [
    "If you want variables with mutable values to be independent, you must make an **explicit copy** of the value when you assign it."
   ]
  },
  {
   "cell_type": "code",
   "execution_count": 3,
   "metadata": {},
   "outputs": [],
   "source": [
    "# assigning a list\n",
    "salsa = ['peppers', 'onions', 'cilantro', 'tomatoes']\n",
    "\n",
    "# make an explicit copy of the list\n",
    "\n",
    "\n"
   ]
  },
  {
   "cell_type": "markdown",
   "metadata": {},
   "source": [
    "Because of pitfalls like this, code which modifies data in place can be more difficult to understand. \n",
    "\n",
    "However, it is often far more efficient to modify a large data structure in place than to create a modified copy for every small change. \n",
    "\n",
    "You should consider both of these aspects when writing your code."
   ]
  },
  {
   "cell_type": "markdown",
   "metadata": {},
   "source": [
    "### Comment your code!\n",
    "\n",
    "Everything in a line of code following the ‘#’ symbol is a **comment** that is ignored by Python. Comments allow programmers to leave explanatory notes for other programmers or their future selves."
   ]
  },
  {
   "cell_type": "code",
   "execution_count": null,
   "metadata": {},
   "outputs": [],
   "source": []
  },
  {
   "cell_type": "markdown",
   "metadata": {},
   "source": [
    "---\n",
    "## Slicing\n",
    "\n",
    "An index like `[2]` selects a single element of a list, but we can select whole sections as well. For example, we can select the first three values of a list like this:\n"
   ]
  },
  {
   "cell_type": "code",
   "execution_count": null,
   "metadata": {},
   "outputs": [],
   "source": []
  },
  {
   "cell_type": "markdown",
   "metadata": {},
   "source": [
    "The **slice** 0:2 means, “Start at index 0 and go up to, but not including, index 2”. \n",
    "\n",
    "The up-to-but-not-including takes a bit of getting used to. \n",
    "\n",
    "Programming languages like **Fortran, MATLAB and R start counting at 1** because that’s what human beings have done for thousands of years. \n",
    "\n",
    "Languages in the **C family (including C++, Java, Perl, and Python) count from 0** because it represents an offset from the first value in the array (the second value is offset by one index from the first value). This is closer to the way that computers represent arrays. \n",
    "\n",
    "As a result, if we have an **list with N elements in Python, its indices go from 0 to N-1**. \n",
    "\n",
    "One way to remember the rule is that the index is how many steps we have to take from the start to get the item we want, or in other words, **indexes indicate the place where the list is cut**. \n",
    "\n",
    "The difference between the upper and lower bounds is the number of values in the slice.\n",
    "\n",
    "<img src=\"img/slicing_lists_python.png\" alt=\"Slicing\" title=\"Slicing Concept, (Lutz 2013), Figure 5-1\" width=\"500\" />\n",
    "\n",
    "*Slicing Concept, (Lutz 2013), Figure 5-1*\n",
    "\n",
    "We don’t have to start slices at 0:"
   ]
  },
  {
   "cell_type": "code",
   "execution_count": null,
   "metadata": {},
   "outputs": [],
   "source": []
  },
  {
   "cell_type": "markdown",
   "metadata": {},
   "source": [
    "We also don’t have to include the upper and lower bound on the slice. \n",
    "\n",
    "- if we don’t include the lower bound, Python uses 0 by default; \n",
    "- if we don’t include the upper, the slice runs to the end of the axis, and \n",
    "- if we don’t include either (i.e., if we use ‘:’ on its own), the slice includes everything.\n",
    "\n",
    "Try below:"
   ]
  },
  {
   "cell_type": "code",
   "execution_count": null,
   "metadata": {},
   "outputs": [],
   "source": []
  },
  {
   "cell_type": "code",
   "execution_count": null,
   "metadata": {},
   "outputs": [],
   "source": []
  },
  {
   "cell_type": "markdown",
   "metadata": {},
   "source": [
    "Or we can slice from the end:"
   ]
  },
  {
   "cell_type": "code",
   "execution_count": null,
   "metadata": {},
   "outputs": [],
   "source": []
  },
  {
   "cell_type": "markdown",
   "metadata": {},
   "source": [
    "---\n",
    "## Heterogeneous Lists & List Methods\n",
    "\n",
    "Lists in Python can contain elements of different types. \n",
    "\n",
    "Example:"
   ]
  },
  {
   "cell_type": "code",
   "execution_count": null,
   "metadata": {},
   "outputs": [],
   "source": []
  },
  {
   "cell_type": "markdown",
   "metadata": {},
   "source": [
    "There are many ways to change the contents of lists besides assigning new values to individual elements. \n",
    "\n",
    "For example we can use type specific methods for lists:"
   ]
  },
  {
   "cell_type": "code",
   "execution_count": 3,
   "metadata": {},
   "outputs": [],
   "source": [
    "# method .append()\n",
    "\n"
   ]
  },
  {
   "cell_type": "code",
   "execution_count": null,
   "metadata": {},
   "outputs": [],
   "source": [
    "# method .pop()\n",
    "\n",
    "\n"
   ]
  },
  {
   "cell_type": "code",
   "execution_count": null,
   "metadata": {},
   "outputs": [],
   "source": [
    "# method .reverse()\n",
    "\n"
   ]
  },
  {
   "cell_type": "markdown",
   "metadata": {},
   "source": [
    "We just made use of mutability of lists and modified the list `odds` in place.\n",
    "\n",
    "You can find some more string methods here: https://www.tutorialspoint.com/python/python_lists.htm"
   ]
  },
  {
   "cell_type": "markdown",
   "metadata": {},
   "source": [
    "---\n",
    "## Nested Lists\n",
    "\n",
    "Since a **list can contain any Python variables** (objects), it can even contain other lists.\n",
    "\n",
    "For example, we could represent the products in the shelves of a small grocery shop:"
   ]
  },
  {
   "cell_type": "code",
   "execution_count": 4,
   "metadata": {},
   "outputs": [],
   "source": [
    "x = [['pepper', 'zucchini', 'onion'],\n",
    "     ['cabbage', 'lettuce', 'garlic'],\n",
    "     ['apple', 'pear', 'banana']]"
   ]
  },
  {
   "cell_type": "markdown",
   "metadata": {},
   "source": [
    "Here is a visual example of how indexing a list of lists `x` works:"
   ]
  },
  {
   "cell_type": "markdown",
   "metadata": {},
   "source": [
    "<img src=\"img/indexing_lists_python.png\" alt=\"Nested Lists\" title=\"Nested Lists\" width=\"600\" />"
   ]
  },
  {
   "cell_type": "markdown",
   "metadata": {},
   "source": [
    "Using the previously declared list x, these would be the results of the index operations shown in the image:"
   ]
  },
  {
   "cell_type": "code",
   "execution_count": null,
   "metadata": {},
   "outputs": [],
   "source": []
  },
  {
   "cell_type": "code",
   "execution_count": null,
   "metadata": {},
   "outputs": [],
   "source": []
  },
  {
   "cell_type": "code",
   "execution_count": null,
   "metadata": {},
   "outputs": [],
   "source": []
  },
  {
   "cell_type": "code",
   "execution_count": null,
   "metadata": {},
   "outputs": [],
   "source": []
  },
  {
   "cell_type": "markdown",
   "metadata": {},
   "source": [
    "---\n",
    "## Reflection\n",
    "\n",
    "You have a list of odd numbers"
   ]
  },
  {
   "cell_type": "code",
   "execution_count": 4,
   "metadata": {},
   "outputs": [],
   "source": [
    "odds = [1, 3, 5, 7, 9, 11]  # defines the list"
   ]
  },
  {
   "cell_type": "markdown",
   "metadata": {},
   "source": [
    "How can you print out only the second to second last element from the list `odds`?"
   ]
  },
  {
   "cell_type": "markdown",
   "metadata": {},
   "source": [
    "Type the code below."
   ]
  },
  {
   "cell_type": "code",
   "execution_count": null,
   "metadata": {},
   "outputs": [],
   "source": []
  },
  {
   "cell_type": "markdown",
   "metadata": {},
   "source": [
    "## Challenge\n",
    "\n",
    "How can you print out a subset of every second element from the list `odds`?\n",
    "\n",
    "Any idea?\n"
   ]
  },
  {
   "cell_type": "code",
   "execution_count": null,
   "metadata": {},
   "outputs": [],
   "source": []
  },
  {
   "cell_type": "markdown",
   "metadata": {},
   "source": [
    "--- \n",
    "\n",
    "# Summary\n",
    "\n",
    "<div class=\"alert alert-info\">\n",
    "\n",
    "**Key Points**\n",
    "\n",
    "- `[value1, value2, value3, ...]` creates a list.\n",
    "- Lists can contain any Python object, including lists (i.e., list of lists).\n",
    "- Lists are indexed and sliced with square brackets (e.g., list[0] and list[2:9]), in the same way as strings and arrays.\n",
    "- Lists are mutable (i.e., their values can be changed in place).\n",
    "- Strings are immutable (i.e., the characters in them cannot be changed).\n",
    "- Use `# some kind of explanation` to add comments to programs.\n",
    "    \n",
    "</div>\n"
   ]
  }
 ],
 "metadata": {
  "kernelspec": {
   "display_name": "Python 3",
   "language": "python",
   "name": "python3"
  },
  "language_info": {
   "codemirror_mode": {
    "name": "ipython",
    "version": 3
   },
   "file_extension": ".py",
   "mimetype": "text/x-python",
   "name": "python",
   "nbconvert_exporter": "python",
   "pygments_lexer": "ipython3",
   "version": "3.8.8"
  }
 },
 "nbformat": 4,
 "nbformat_minor": 4
}
