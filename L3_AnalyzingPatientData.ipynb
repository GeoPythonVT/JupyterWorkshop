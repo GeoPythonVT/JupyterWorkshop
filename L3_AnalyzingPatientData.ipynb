{
 "cells": [
  {
   "cell_type": "markdown",
   "metadata": {},
   "source": [
    "# Web-based Tools for Teaching and Research: Jupyter Notebooks and GitHub\n",
    "A workshop of the Academy of Data Sciences at the College of Science\n",
    "## Jupyter Notebooks & Python\n",
    "\n",
    "Susanna Werth\n",
    "\n",
    "---\n",
    "\n",
    "## Lesson 3: Analyzing Patient Data\n",
    "This lesson is following the carpentry tutorial \"Programming with Python\":\n",
    "https://software-carpentry.org/lessons/\n",
    "\n",
    "### Loading data into Python\n",
    "\n",
    "To begin processing inflammation data, we need to load it into Python. \n",
    "\n",
    "We can do that using a Python **library** called [**NumPy**](http://docs.scipy.org/doc/numpy/), which stands for Numerical Python. \n",
    "\n",
    "In general, you should use this library when you want to do fancy things with lots of numbers, especially if you have matrices or arrays. \n",
    "\n",
    "To tell Python that we’d like to start using NumPy, we need to import it:\n"
   ]
  },
  {
   "cell_type": "code",
   "execution_count": null,
   "metadata": {},
   "outputs": [],
   "source": []
  },
  {
   "cell_type": "markdown",
   "metadata": {},
   "source": [
    "Importing a library is like getting a piece of lab equipment out of a storage locker and setting it up on the bench. Libraries provide additional functionality to the basic Python package, much like a new piece of equipment adds functionality to a lab space. \n",
    "\n",
    "Just like in the lab, importing too many libraries can sometimes complicate and slow down your programs - so we only import what we need for each program.\n",
    "\n",
    "Once we’ve imported the library, we can ask the library to read our data file for us:"
   ]
  },
  {
   "cell_type": "code",
   "execution_count": null,
   "metadata": {},
   "outputs": [],
   "source": []
  },
  {
   "cell_type": "markdown",
   "metadata": {},
   "source": [
    "The expression `numpy.loadtxt(...)` is a **function call** that asks Python to run the function `loadtxt` which belongs to the `numpy` library. \n",
    "\n",
    "This **dotted notation** is used everywhere in Python: the thing that appears before the dot contains the thing that appears after.\n",
    "\n",
    "As an example, John Smith is the John that belongs to the Smith family. We could use the dot notation to write his name `smith.john`, just as `loadtxt` is a function that belongs to the `numpy` library.\n",
    "\n",
    "#### Parameter of `numpy.loadtxt`:\n",
    "\n",
    "`numpy.loadtxt` has two **function parameters**: \n",
    "- the **name** of the file we want to read, and \n",
    "- the **delimiter** that separates values on a line. \n",
    "\n",
    "Both parameter need to be character strings (or strings for short), so we put them in quotes.\n",
    "\n",
    "#### Output of `numpy.loadtxt`:\n",
    "\n",
    "Since we haven’t told it to do anything else with the function’s output, the notebook displays it. In this case, that output is the data we just loaded. By default, only a few rows and columns are shown (with `...` to omit elements when displaying big arrays). Note that, to save space when displaying NumPy arrays, Python does not show us trailing zeros, so `1.0` becomes `1.`.\n",
    "\n",
    "#### Now, let's save the data.\n",
    "\n",
    "Our call above to `numpy.loadtxt` read our file but didn’t save the data in memory. To do that, we need to assign the array to a variable. \n",
    "\n",
    "In a similar manner to how we assign a single value to a variable, we can also assign an array of values to a variable using the same syntax. \n",
    "\n",
    "Let’s re-run `numpy.loadtxt` and save the returned data to a variable called `data`:"
   ]
  },
  {
   "cell_type": "code",
   "execution_count": null,
   "metadata": {},
   "outputs": [],
   "source": []
  },
  {
   "cell_type": "markdown",
   "metadata": {},
   "source": [
    "This statement doesn’t produce any output because we’ve assigned the output to the variable `data`. If we want to check that the data have been loaded, we can print the variable’s value:"
   ]
  },
  {
   "cell_type": "code",
   "execution_count": null,
   "metadata": {},
   "outputs": [],
   "source": []
  },
  {
   "cell_type": "markdown",
   "metadata": {},
   "source": [
    "Now that the data are in memory, we can manipulate them. First, let’s ask what type of thing `data` refers to:"
   ]
  },
  {
   "cell_type": "code",
   "execution_count": null,
   "metadata": {},
   "outputs": [],
   "source": []
  },
  {
   "cell_type": "markdown",
   "metadata": {},
   "source": [
    "The output tells us that `data` currently refers to an N-dimensional array, the functionality for which is provided by the NumPy library. These data correspond to **arthritis patients’ inflammation**. \n",
    "\n",
    "**The rows are the individual patients, and the columns are their daily inflammation measurements.**"
   ]
  },
  {
   "cell_type": "markdown",
   "metadata": {},
   "source": [
    "A Numpy array contains one or more elements of the same type. The type function will only tell you that a variable is a NumPy array but won’t tell you the type of thing inside the array. We can find out the type of the data contained in the NumPy array."
   ]
  },
  {
   "cell_type": "code",
   "execution_count": null,
   "metadata": {},
   "outputs": [],
   "source": []
  },
  {
   "cell_type": "markdown",
   "metadata": {},
   "source": [
    "This tells us that the NumPy array’s elements are floating-point numbers.\n",
    "\n",
    "With the following command, we can see the array’s shape:"
   ]
  },
  {
   "cell_type": "code",
   "execution_count": null,
   "metadata": {},
   "outputs": [],
   "source": []
  },
  {
   "cell_type": "markdown",
   "metadata": {},
   "source": [
    "The output tells us that the data array variable contains 60 rows and 40 columns. "
   ]
  },
  {
   "cell_type": "markdown",
   "metadata": {},
   "source": [
    "#### Attributs of NumPy arrays\n",
    "\n",
    "When we created the variable data to store our arthritis data, we did not only create the array; we also created information about the array, called members or **attributes**. This extra information describes data in the same way an adjective describes a noun. \n",
    "\n",
    "`data.shape` is an attribute of the numpy array `data` which describes the dimensions of `data`. \n",
    "\n",
    "We use the same dotted notation for the attributes of variables that we use for the **functions in libraries** because they have the same part-and-whole relationship."
   ]
  },
  {
   "cell_type": "markdown",
   "metadata": {},
   "source": [
    "#### Indexing NumPy arrays\n",
    "\n",
    "If we want to get a single number from the array, we must provide an index in square brackets after the variable name, just as we do in math when referring to an element of a matrix. \n",
    "\n",
    "This works congruent to what we have learned earlier about indexing lists. However, numpy arrays are better designed for accessing data with several dimensions. \n",
    "\n",
    "Our inflammation data has two dimensions, so we will need to use two indices to refer to one specific value:"
   ]
  },
  {
   "cell_type": "code",
   "execution_count": null,
   "metadata": {},
   "outputs": [],
   "source": []
  },
  {
   "cell_type": "code",
   "execution_count": null,
   "metadata": {},
   "outputs": [],
   "source": []
  },
  {
   "cell_type": "markdown",
   "metadata": {},
   "source": [
    "The indexing works exactly like for lists, just in two dimensions:\n",
    "\n",
    "<img src=\"img/python-zero-index.svg\" alt=\"Indexing Arrays\" title=\"Indexing Arrays\" width=\"600\" />"
   ]
  },
  {
   "cell_type": "markdown",
   "metadata": {},
   "source": [
    "What may also surprise you is that when Python displays an array, it shows the **element with index `[0, 0]` in the upper left corner** rather than the lower left. This is consistent with the way mathematicians draw matrices. The indices are (row, column).\n",
    "\n",
    "To receive the first 4 rows and first 10 columns of the dataset we have to slice the following:\n"
   ]
  },
  {
   "cell_type": "code",
   "execution_count": null,
   "metadata": {},
   "outputs": [],
   "source": []
  },
  {
   "cell_type": "markdown",
   "metadata": {},
   "source": [
    "### Question\n",
    "\n",
    "How can we receive the first columns of the last 4 rows?"
   ]
  },
  {
   "cell_type": "code",
   "execution_count": null,
   "metadata": {},
   "outputs": [],
   "source": []
  },
  {
   "cell_type": "markdown",
   "metadata": {},
   "source": [
    "---\n",
    "### Analyzing data\n",
    "\n",
    "NumPy has several useful functions that take an array as input to perform operations on its values. \n",
    "\n",
    "If we want to find the average inflammation for all patients on all days, for example, we can ask NumPy to compute `data`’s mean value:"
   ]
  },
  {
   "cell_type": "code",
   "execution_count": null,
   "metadata": {},
   "outputs": [],
   "source": []
  },
  {
   "cell_type": "markdown",
   "metadata": {},
   "source": [
    "`mean` is a function that takes a numpy array as an argument.\n",
    "\n",
    "Let’s use three other NumPy functions to get some descriptive values about the dataset. We’ll also use multiple assignment, a convenient Python feature that will enable us to do this all in one line."
   ]
  },
  {
   "cell_type": "code",
   "execution_count": 1,
   "metadata": {},
   "outputs": [],
   "source": [
    "\n",
    "\n",
    "# print('maximum inflammation:', maxval)\n",
    "# print('minimum inflammation:', minval)\n",
    "# print('standard deviation:', stdval)"
   ]
  },
  {
   "cell_type": "markdown",
   "metadata": {},
   "source": [
    "Here we’ve assigned the return value from `numpy.max(data)` to the variable `maxval`, the value from `numpy.min(data)` to `minval`, and so on."
   ]
  },
  {
   "cell_type": "markdown",
   "metadata": {},
   "source": [
    "If you like some additional information about functions and their formating, you can request information about a function using a question mark\n",
    "```python\n",
    "    numpy.max?\n",
    "```\n",
    "Or you can use the `help()` function:\n",
    "\n",
    "``` python\n",
    "    help(numpy.max)\n",
    "```"
   ]
  },
  {
   "cell_type": "code",
   "execution_count": 2,
   "metadata": {},
   "outputs": [],
   "source": [
    "   # try it out"
   ]
  },
  {
   "cell_type": "markdown",
   "metadata": {},
   "source": [
    "Now, let's continue analyzing our data...\n",
    "\n",
    "#### Array Statistics\n",
    "\n",
    "When analyzing data, though, we often want to look at variations in **statistical values**, such as the **maximum inflammation per patient** or the **average inflammation** per day. One way to do this is to create a new temporary array of the data we want, then ask it to do the calculation:"
   ]
  },
  {
   "cell_type": "code",
   "execution_count": null,
   "metadata": {},
   "outputs": [],
   "source": [
    "\n"
   ]
  },
  {
   "cell_type": "markdown",
   "metadata": {},
   "source": [
    "We don’t actually need to store the row in a variable of its own. Instead, we can combine the selection and the function call:"
   ]
  },
  {
   "cell_type": "code",
   "execution_count": null,
   "metadata": {},
   "outputs": [],
   "source": []
  },
  {
   "cell_type": "markdown",
   "metadata": {},
   "source": [
    "What if we need the **maximum inflammation for each patient over all days** (as in the next diagram on the left) or the **average for each day** (as in the diagram on the right)? As the diagram below shows, we want to perform the operation across an axis:\n",
    "\n",
    "<img src=\"img/python-operations-across-axes.png\" alt=\"Analyzing Arrays\" title=\"Analyzing Arrays\" width=\"600\" />\n"
   ]
  },
  {
   "cell_type": "markdown",
   "metadata": {},
   "source": [
    "To support this functionality, most array functions allow us to specify the axis we want to work on. If we ask for the average across axis 0 (rows in our 2D example), we get:"
   ]
  },
  {
   "cell_type": "code",
   "execution_count": null,
   "metadata": {},
   "outputs": [],
   "source": []
  },
  {
   "cell_type": "markdown",
   "metadata": {},
   "source": [
    "As a quick check, we can ask this array what its shape is:"
   ]
  },
  {
   "cell_type": "code",
   "execution_count": null,
   "metadata": {},
   "outputs": [],
   "source": []
  },
  {
   "cell_type": "markdown",
   "metadata": {},
   "source": [
    "The expression `(40,)` tells us we have an N×1 vector, so this is the average inflammation per day for all patients. \n",
    "\n",
    "If we average across axis 1 (columns in our 2D example), we get the **average inflamation for each day** (as in the diagram on the right):"
   ]
  },
  {
   "cell_type": "code",
   "execution_count": null,
   "metadata": {},
   "outputs": [],
   "source": []
  },
  {
   "cell_type": "markdown",
   "metadata": {},
   "source": [
    "which is the average inflammation per patient across all days."
   ]
  },
  {
   "cell_type": "markdown",
   "metadata": {},
   "source": [
    "You can find more mathematical functions available in numpy here: https://numpy.org/doc/stable/reference/routines.math.html"
   ]
  },
  {
   "cell_type": "markdown",
   "metadata": {},
   "source": [
    "--- \n",
    "\n",
    "# Summary\n",
    "\n",
    "<div class=\"alert alert-info\">\n",
    "\n",
    "**Key Points**\n",
    "\n",
    "- Import a library into a program using `import libraryname`.\n",
    "- Use the `numpy` library to work with arrays in Python.\n",
    "- The expression `array.shape` gives the shape of an array.\n",
    "- Use `array[x, y]` to select a single element from a 2D array.\n",
    "- Array indices start at 0, not 1.\n",
    "- Use `low:high` to specify a slice that includes the indices from `low` to `high-1`.\n",
    "- Use `numpy.mean(array)`, `numpy.max(array)`, and `numpy.min(array)` to calculate simple statistics.\n",
    "- Use `numpy.mean(array, axis=0)` or `numpy.mean(array, axis=1)` to calculate statistics across the specified axis.\n",
    "</div>\n"
   ]
  }
 ],
 "metadata": {
  "kernelspec": {
   "display_name": "Python 3",
   "language": "python",
   "name": "python3"
  },
  "language_info": {
   "codemirror_mode": {
    "name": "ipython",
    "version": 3
   },
   "file_extension": ".py",
   "mimetype": "text/x-python",
   "name": "python",
   "nbconvert_exporter": "python",
   "pygments_lexer": "ipython3",
   "version": "3.8.8"
  }
 },
 "nbformat": 4,
 "nbformat_minor": 4
}
