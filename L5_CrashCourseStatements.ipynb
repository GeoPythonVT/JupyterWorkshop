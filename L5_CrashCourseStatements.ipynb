{
 "cells": [
  {
   "cell_type": "markdown",
   "id": "fba396ce-b4da-4be0-9691-b33f18769d5b",
   "metadata": {},
   "source": [
    " Web-based Tools for Teaching and Research: Jupyter Notebooks and GitHub\n",
    "A workshop of the Academy of Data Sciences at the College of Science\n",
    "## Jupyter Notebooks & Python\n",
    "\n",
    "Susanna Werth\n",
    "\n",
    "---\n",
    "\n",
    "## Lesson 5: Crash Course on Python Statements: Loops, Decisions and Functions\n",
    "\n",
    "This lesson is contains selected material of the carpentry tutorial \"Programming with Python\":\n",
    "https://software-carpentry.org/lessons/\n"
   ]
  },
  {
   "cell_type": "markdown",
   "id": "ece3fa81-5778-4063-a97f-f17fbf518c25",
   "metadata": {},
   "source": [
    "---\n",
    "## Importance of Indent for Statements\n",
    "\n",
    "Unlike many other languages, there is no command to signify the end of statement bodies like decisions, loops or function ; what is **indented** after the statement (loop, decision or function) belongs to it:\n",
    "\n",
    "```python\n",
    "this_statement(parameter): # decision/loop/function\n",
    "    indented content 1\n",
    "    indented content 2\n",
    "    indented content 3\n",
    "\n",
    "next_statement\n",
    "```"
   ]
  },
  {
   "cell_type": "markdown",
   "id": "cd3a42bd-c514-4dc3-a2a5-6fa44d95e383",
   "metadata": {},
   "source": [
    "--- \n",
    "\n",
    "## Decisions in Python\n",
    "\n",
    "How can we use Python to automatically recognize the different features we saw, and take a different action for each? \n",
    "\n",
    "We can ask Python to take different actions, depending on a condition, with an `if` statement:"
   ]
  },
  {
   "cell_type": "code",
   "execution_count": 31,
   "id": "a69cee54-9522-491f-9aeb-53ea5468f42e",
   "metadata": {},
   "outputs": [
    {
     "name": "stdout",
     "output_type": "stream",
     "text": [
      "not greater\n",
      "done\n"
     ]
    }
   ],
   "source": [
    "num = 37\n",
    "if num > 100:\n",
    "    print('greater 100')\n",
    "else:\n",
    "    print('not greater 100')\n",
    "print('done')"
   ]
  },
  {
   "cell_type": "markdown",
   "id": "d596348f-f0f9-4278-94af-d21e5327cb92",
   "metadata": {},
   "source": [
    "#### Comparing in Python\n",
    "Along with the > and == operators we have already used for comparing values in our conditionals, there are a few more options to know about:\n",
    "\n",
    "    >: greater than\n",
    "    <: less than\n",
    "    ==: equal to\n",
    "    !=: does not equal\n",
    "    >=: greater than or equal to\n",
    "    <=: less than or equal to"
   ]
  },
  {
   "cell_type": "markdown",
   "id": "24d2b356-b2d2-40b2-95d9-5ca22dc26ed4",
   "metadata": {},
   "source": [
    "--- \n",
    "## Loops in Python\n",
    "\n",
    "We have a dozen data sets right now, though, and more on the way. We want to create plots for all of our data sets with a single statement. To do that, we’ll have to teach the computer how to repeat things.\n",
    "\n",
    "In Python we can use for- and while-loops.\n",
    "\n",
    "### for-loop\n",
    "\n",
    "A for loop is used for iterating over a sequence (that is either a list, a tuple, a dictionary, a set, or a string).\n",
    "\n",
    "This is less like the for keyword in other programming languages, and works more like an iterator method as found in other object-orientated programming languages.\n",
    "\n",
    "With the for loop we can execute a set of statements, once for each item in a list, tuple, set etc."
   ]
  },
  {
   "cell_type": "code",
   "execution_count": 32,
   "id": "19195d4c-7e33-4ae8-80ab-3ecf8f5f4f88",
   "metadata": {},
   "outputs": [
    {
     "name": "stdout",
     "output_type": "stream",
     "text": [
      "2\n",
      "4\n",
      "6\n",
      "8\n"
     ]
    }
   ],
   "source": [
    "# prints out every second number between 2 and 8 \n",
    "for num in range(2,9,2):\n",
    "    print(num)"
   ]
  },
  {
   "cell_type": "markdown",
   "id": "f1fa3cf1-e4ba-418b-87df-ace396292643",
   "metadata": {},
   "source": [
    "--- \n",
    "### while-loop\n",
    "\n",
    "With the while loop we can execute a set of statements as long as a condition is true."
   ]
  },
  {
   "cell_type": "code",
   "execution_count": 11,
   "id": "5c309ae5-3250-4d24-be4e-1e05da0228bb",
   "metadata": {},
   "outputs": [
    {
     "name": "stdout",
     "output_type": "stream",
     "text": [
      "0\n",
      "1\n",
      "2\n",
      "3\n",
      "4\n"
     ]
    }
   ],
   "source": [
    "# Prints out 0,1,2,3,4\n",
    "\n",
    "count = 0\n",
    "while count < 5:\n",
    "    print(count)\n",
    "    count += 1  # This is the same as count = count + 1"
   ]
  },
  {
   "cell_type": "markdown",
   "id": "efa330fe-a51c-4238-8332-8f4f7553e4c6",
   "metadata": {},
   "source": [
    "--- \n",
    "\n",
    "## Functions in Python\n",
    "\n",
    "We’d like a way to package our code so that it is easier to reuse, and Python provides for this by letting us define things called ‘functions’ — a shorthand way of re-executing longer pieces of code. Let’s start by defining a function `fahr_to_celsius` that converts temperatures from Fahrenheit to Celsius.\n",
    "\n",
    "See the anatomy of such a function displayed below:\n",
    "\n",
    "<img src=\"img/python-function.svg\" alt=\"Function\" title=\"Function\" width=\"500\" />\n",
    "\n",
    "\n",
    "The function definition opens with the keyword def followed by the name of the function (`fahr_to_celsius`) and a parenthesized list of parameter names (`temp`). The body of the function — the statements that are executed when it runs — is indented below the definition line. The body concludes with a return keyword followed by the `return` value.\n",
    "\n",
    "When we call the function, the values we pass to it are assigned to those variables so that we can use them inside the function. Inside the function, we use a return statement to send a result back to whoever asked for it.\n",
    "\n",
    "Now, let's define the function in a code cell and use it:"
   ]
  },
  {
   "cell_type": "code",
   "execution_count": 15,
   "id": "84526696-5f55-437e-8fc2-9f49532388fd",
   "metadata": {},
   "outputs": [],
   "source": [
    "def fahr_to_celsius(temp):\n",
    "    celcius = ((temp - 32) * (5/9))\n",
    "    return celcius"
   ]
  },
  {
   "cell_type": "code",
   "execution_count": 18,
   "id": "f43e53b2-421d-4951-a68c-e8a38434a0e7",
   "metadata": {},
   "outputs": [
    {
     "name": "stdout",
     "output_type": "stream",
     "text": [
      "freezing point of water: 0.0 C\n",
      "boiling point of water: 100.0 C\n",
      "body temperature: 37.0 C\n"
     ]
    }
   ],
   "source": [
    "print('freezing point of water:', fahr_to_celsius(32), 'C')\n",
    "print('boiling point of water:', fahr_to_celsius(212), 'C')\n",
    "print('body temperature:', fahr_to_celsius(98.6), 'C')"
   ]
  },
  {
   "cell_type": "markdown",
   "id": "7a67d8cd-26be-4e7c-a6f8-80183dbebe04",
   "metadata": {},
   "source": [
    "---\n",
    "## Exercise\n",
    "\n",
    "Write a function of name `greater100`, which allows you to perform the following decision for any number.\n"
   ]
  },
  {
   "cell_type": "code",
   "execution_count": 33,
   "id": "6be70d7d-bf41-40ff-ac88-a5a76d00dd93",
   "metadata": {},
   "outputs": [
    {
     "name": "stdout",
     "output_type": "stream",
     "text": [
      "not greater\n",
      "done\n"
     ]
    }
   ],
   "source": [
    "num = 37\n",
    "if num > 100:\n",
    "    print('greater')\n",
    "else:\n",
    "    print('not greater')\n"
   ]
  },
  {
   "cell_type": "code",
   "execution_count": 39,
   "id": "73dd8328-0471-4aad-a436-307e082dba23",
   "metadata": {},
   "outputs": [],
   "source": []
  }
 ],
 "metadata": {
  "kernelspec": {
   "display_name": "Python 3",
   "language": "python",
   "name": "python3"
  },
  "language_info": {
   "codemirror_mode": {
    "name": "ipython",
    "version": 3
   },
   "file_extension": ".py",
   "mimetype": "text/x-python",
   "name": "python",
   "nbconvert_exporter": "python",
   "pygments_lexer": "ipython3",
   "version": "3.8.8"
  }
 },
 "nbformat": 4,
 "nbformat_minor": 5
}
