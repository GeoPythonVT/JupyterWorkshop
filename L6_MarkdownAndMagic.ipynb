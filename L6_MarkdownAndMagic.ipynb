{
 "cells": [
  {
   "cell_type": "markdown",
   "id": "44527a5d-3729-4955-bd2d-5fdaf8a40635",
   "metadata": {},
   "source": [
    "### Web-based Tools for Teaching and Research: Jupyter Notebooks and GitHub\n",
    "A workshop of the Academy of Data Sciences at the College of Science\n",
    "## Jupyter Notebooks & Python\n",
    "\n",
    "Susanna Werth\n",
    "\n",
    "---\n",
    "\n",
    "# Lesson 6: Markdown & Magic\n",
    "\n",
    "This lesson contains selected examples for **markdown code** and **magic comands** usful in jupyter notebooks."
   ]
  },
  {
   "cell_type": "markdown",
   "id": "a436425c-0649-4c59-a21b-ee89246f136a",
   "metadata": {},
   "source": [
    "---\n",
    "# Writing Notebooks with Markdown\n",
    "\n",
    "\n",
    "## Standard Markdown\n",
    "\n",
    "To find out how to edit text nicely in markdown cells the Jupyter lab provides a great reference.\n",
    "\n",
    "Go to top **Menu > Help > Markdown Reference**\n",
    "and study the options, or make the tutorial."
   ]
  },
  {
   "cell_type": "markdown",
   "id": "da6c4279-4e92-4c78-a524-f031d39a24c5",
   "metadata": {},
   "source": [
    "## Add code to your markdown cell\n",
    "This code will not be executed, but it can help to display it here.\n",
    "\n",
    "``` python\n",
    "some code in python\n",
    "```\n",
    "\n",
    "```markdown\n",
    "# This works also for a big headline in markdown\n",
    "```"
   ]
  },
  {
   "cell_type": "markdown",
   "id": "38caf6d0-ee76-4400-bafe-1219cdcde2d8",
   "metadata": {},
   "source": [
    "## Embed images and adjust their size\n",
    "The markdown reference indicates markdown code to embed an image (including the path to the subfolder where image is located). \n",
    "\n",
    "```markdown\n",
    "![Jupyter Logo](./img/jupyter.png)\n",
    "```\n",
    "However, this command does not allow to adjust the size.\n",
    "\n",
    "For that we have to use html code:\n",
    "\n",
    "```html\n",
    "<img src=\"./img/jupyter.png\" title=\"Logo\" width=\"100\" />\n",
    "```\n",
    "\n",
    "which will include the image like this:\n",
    "\n",
    "<img src=\"./img/jupyter.png\" title=\"Logo\" width=\"100\" />"
   ]
  },
  {
   "cell_type": "markdown",
   "id": "dcfd329a-7831-4dc4-817b-0eea0d9d816d",
   "metadata": {},
   "source": [
    "## Add highlighted boxes\n",
    "\n",
    "For highlighted boxes, we can use a trick and enter html-warnings like this:\n",
    "\n",
    "```html\n",
    "<div class=\"alert alert-info\">\n",
    "\n",
    "**Box**\n",
    "    \n",
    "- Generates a highlighted box.\n",
    "</div>\n",
    "```\n",
    "\n",
    "after executing the markdown code above in the markdown cell it will look  this:\n",
    "\n",
    "<div class=\"alert alert-info\">\n",
    "\n",
    "**Box**\n",
    "    \n",
    "- Generates a highlighted box.\n",
    "</div>\n",
    "\n",
    "We can get different colors with different alert levels:\n",
    "- alert-danger: red\n",
    "- alert-success: green\n",
    "- alert-info: blue\n",
    "- alert-warning: yellow/orange\n",
    "\n",
    "Try them in the markdown cell below!"
   ]
  },
  {
   "cell_type": "markdown",
   "id": "b9b5ce3c-06d6-416d-9403-bc16cb3b2e82",
   "metadata": {},
   "source": []
  },
  {
   "cell_type": "markdown",
   "id": "df52465c-7b60-40a1-827f-83039a069322",
   "metadata": {},
   "source": [
    "---\n",
    "# Using Magic Commands in a Notebook\n",
    "\n",
    "Jupyter notebook code cells can contain special commands which are not valid Python code but affect the behavior of the notebook. These special commands are called **magic commands**."
   ]
  },
  {
   "cell_type": "markdown",
   "id": "9e352c14-163e-40b1-a8c6-dcd0d2bb86c7",
   "metadata": {},
   "source": [
    "## Bash commands\n",
    "\n",
    "You can execute bash commands directly from a notebook, by entering an exclamation mark at the beginning of line:"
   ]
  },
  {
   "cell_type": "code",
   "execution_count": 2,
   "id": "e9ce5353-e879-4ee9-aa1a-7c2fde64922a",
   "metadata": {},
   "outputs": [
    {
     "name": "stdout",
     "output_type": "stream",
     "text": [
      "/Users/swerth/Dropbox (Personal)/MyDropbox/Documents/Work/Teaching/Workshops/Material_JupyterWorkshop/JupyterMaterial\n"
     ]
    }
   ],
   "source": [
    "! pwd   # returns the current path"
   ]
  },
  {
   "cell_type": "code",
   "execution_count": 3,
   "id": "33103068-6ba5-4be6-b2d6-f598990e76a1",
   "metadata": {},
   "outputs": [],
   "source": [
    "! mkdir myNewFolder # makes new folder"
   ]
  },
  {
   "cell_type": "code",
   "execution_count": 4,
   "id": "b984edcb-15f1-418b-8b12-918392875228",
   "metadata": {},
   "outputs": [],
   "source": [
    "! rmdir myNewFolder # deletes the same folder"
   ]
  },
  {
   "cell_type": "markdown",
   "id": "40ac79ab-d7c1-4d5f-bd24-0d3811cea084",
   "metadata": {},
   "source": [
    "Tomorrow we will learn how to use git and GitHub. Remember, that you will be able to pull and push content using git, directly from a Jupyter notebook with this option.# Read a list of files with bash command directly into a variable\n",
    "names = !ls ./img/*.png\n",
    "names"
   ]
  },
  {
   "cell_type": "code",
   "execution_count": 25,
   "id": "b20760ca-452b-40e8-8118-8de257e8f1f0",
   "metadata": {},
   "outputs": [
    {
     "data": {
      "text/plain": [
       "['./img/indexing_lists_python.png',\n",
       " './img/jupyter.png',\n",
       " './img/loops_image_num.png',\n",
       " './img/python-operations-across-axes.png',\n",
       " './img/slicing_lists_python.png']"
      ]
     },
     "execution_count": 25,
     "metadata": {},
     "output_type": "execute_result"
    }
   ],
   "source": [
    "# Read a list of files with bash command directly into a variable\n",
    "names = !ls ./img/*.png\n",
    "names"
   ]
  },
  {
   "cell_type": "markdown",
   "id": "fbb05e21-50d0-463c-a98b-1aa6d7e68d58",
   "metadata": {},
   "source": [
    "### Entire cell with bash commands"
   ]
  },
  {
   "cell_type": "code",
   "execution_count": 41,
   "id": "7cd99a4f-4af0-4d1f-992e-69537346be69",
   "metadata": {},
   "outputs": [
    {
     "name": "stdout",
     "output_type": "stream",
     "text": [
      "HELLO WORLD!\n"
     ]
    }
   ],
   "source": [
    "%%bash\n",
    "echo \"HELLO WORLD!\""
   ]
  },
  {
   "cell_type": "markdown",
   "id": "2267b854-5eee-427c-b75e-f506caf150a0",
   "metadata": {},
   "source": [
    "---\n",
    "## More magic\n",
    "\n",
    "Discriminate between\n",
    "- line magics: start with `%` or `!`\n",
    "- cell magics: start with `%%`\n"
   ]
  },
  {
   "cell_type": "code",
   "execution_count": 7,
   "id": "e2f1768f-d65d-44b6-8795-a2a44815b2c1",
   "metadata": {},
   "outputs": [
    {
     "data": {
      "application/json": {
       "cell": {
        "!": "OSMagics",
        "HTML": "Other",
        "SVG": "Other",
        "bash": "Other",
        "capture": "ExecutionMagics",
        "debug": "ExecutionMagics",
        "file": "Other",
        "html": "DisplayMagics",
        "javascript": "DisplayMagics",
        "js": "DisplayMagics",
        "latex": "DisplayMagics",
        "markdown": "DisplayMagics",
        "perl": "Other",
        "prun": "ExecutionMagics",
        "pypy": "Other",
        "python": "Other",
        "python2": "Other",
        "python3": "Other",
        "ruby": "Other",
        "script": "ScriptMagics",
        "sh": "Other",
        "svg": "DisplayMagics",
        "sx": "OSMagics",
        "system": "OSMagics",
        "time": "ExecutionMagics",
        "timeit": "ExecutionMagics",
        "writefile": "OSMagics"
       },
       "line": {
        "alias": "OSMagics",
        "alias_magic": "BasicMagics",
        "autoawait": "AsyncMagics",
        "autocall": "AutoMagics",
        "automagic": "AutoMagics",
        "autosave": "KernelMagics",
        "bookmark": "OSMagics",
        "cat": "Other",
        "cd": "OSMagics",
        "clear": "KernelMagics",
        "colors": "BasicMagics",
        "conda": "PackagingMagics",
        "config": "ConfigMagics",
        "connect_info": "KernelMagics",
        "cp": "Other",
        "debug": "ExecutionMagics",
        "dhist": "OSMagics",
        "dirs": "OSMagics",
        "doctest_mode": "BasicMagics",
        "ed": "Other",
        "edit": "KernelMagics",
        "env": "OSMagics",
        "gui": "BasicMagics",
        "hist": "Other",
        "history": "HistoryMagics",
        "killbgscripts": "ScriptMagics",
        "ldir": "Other",
        "less": "KernelMagics",
        "lf": "Other",
        "lk": "Other",
        "ll": "Other",
        "load": "CodeMagics",
        "load_ext": "ExtensionMagics",
        "loadpy": "CodeMagics",
        "logoff": "LoggingMagics",
        "logon": "LoggingMagics",
        "logstart": "LoggingMagics",
        "logstate": "LoggingMagics",
        "logstop": "LoggingMagics",
        "ls": "Other",
        "lsmagic": "BasicMagics",
        "lx": "Other",
        "macro": "ExecutionMagics",
        "magic": "BasicMagics",
        "man": "KernelMagics",
        "matplotlib": "PylabMagics",
        "mkdir": "Other",
        "more": "KernelMagics",
        "mv": "Other",
        "notebook": "BasicMagics",
        "page": "BasicMagics",
        "pastebin": "CodeMagics",
        "pdb": "ExecutionMagics",
        "pdef": "NamespaceMagics",
        "pdoc": "NamespaceMagics",
        "pfile": "NamespaceMagics",
        "pinfo": "NamespaceMagics",
        "pinfo2": "NamespaceMagics",
        "pip": "PackagingMagics",
        "popd": "OSMagics",
        "pprint": "BasicMagics",
        "precision": "BasicMagics",
        "prun": "ExecutionMagics",
        "psearch": "NamespaceMagics",
        "psource": "NamespaceMagics",
        "pushd": "OSMagics",
        "pwd": "OSMagics",
        "pycat": "OSMagics",
        "pylab": "PylabMagics",
        "qtconsole": "KernelMagics",
        "quickref": "BasicMagics",
        "recall": "HistoryMagics",
        "rehashx": "OSMagics",
        "reload_ext": "ExtensionMagics",
        "rep": "Other",
        "rerun": "HistoryMagics",
        "reset": "NamespaceMagics",
        "reset_selective": "NamespaceMagics",
        "rm": "Other",
        "rmdir": "Other",
        "run": "ExecutionMagics",
        "save": "CodeMagics",
        "sc": "OSMagics",
        "set_env": "OSMagics",
        "store": "StoreMagics",
        "sx": "OSMagics",
        "system": "OSMagics",
        "tb": "ExecutionMagics",
        "time": "ExecutionMagics",
        "timeit": "ExecutionMagics",
        "unalias": "OSMagics",
        "unload_ext": "ExtensionMagics",
        "who": "NamespaceMagics",
        "who_ls": "NamespaceMagics",
        "whos": "NamespaceMagics",
        "xdel": "NamespaceMagics",
        "xmode": "BasicMagics"
       }
      },
      "text/plain": [
       "Available line magics:\n",
       "%alias  %alias_magic  %autoawait  %autocall  %automagic  %autosave  %bookmark  %cat  %cd  %clear  %colors  %conda  %config  %connect_info  %cp  %debug  %dhist  %dirs  %doctest_mode  %ed  %edit  %env  %gui  %hist  %history  %killbgscripts  %ldir  %less  %lf  %lk  %ll  %load  %load_ext  %loadpy  %logoff  %logon  %logstart  %logstate  %logstop  %ls  %lsmagic  %lx  %macro  %magic  %man  %matplotlib  %mkdir  %more  %mv  %notebook  %page  %pastebin  %pdb  %pdef  %pdoc  %pfile  %pinfo  %pinfo2  %pip  %popd  %pprint  %precision  %prun  %psearch  %psource  %pushd  %pwd  %pycat  %pylab  %qtconsole  %quickref  %recall  %rehashx  %reload_ext  %rep  %rerun  %reset  %reset_selective  %rm  %rmdir  %run  %save  %sc  %set_env  %store  %sx  %system  %tb  %time  %timeit  %unalias  %unload_ext  %who  %who_ls  %whos  %xdel  %xmode\n",
       "\n",
       "Available cell magics:\n",
       "%%!  %%HTML  %%SVG  %%bash  %%capture  %%debug  %%file  %%html  %%javascript  %%js  %%latex  %%markdown  %%perl  %%prun  %%pypy  %%python  %%python2  %%python3  %%ruby  %%script  %%sh  %%svg  %%sx  %%system  %%time  %%timeit  %%writefile\n",
       "\n",
       "Automagic is ON, % prefix IS NOT needed for line magics."
      ]
     },
     "execution_count": 7,
     "metadata": {},
     "output_type": "execute_result"
    }
   ],
   "source": [
    "# list available python magics\n",
    "%lsmagic"
   ]
  },
  {
   "cell_type": "markdown",
   "id": "20528dc5-a3c9-4cc7-8447-9cad1ce23cdb",
   "metadata": {},
   "source": [
    "\n",
    "A good reference for the many magic commands are the iPython documentation pages: https://ipython.readthedocs.io/en/stable/interactive/magics.html"
   ]
  },
  {
   "cell_type": "markdown",
   "id": "12fa8fd7-a360-4678-aee5-7aee6d0770e6",
   "metadata": {},
   "source": [
    "---\n",
    "### Execute or load external Python scripts"
   ]
  },
  {
   "cell_type": "code",
   "execution_count": 17,
   "id": "20788158-0028-477b-b421-52fc6843d4f7",
   "metadata": {},
   "outputs": [],
   "source": [
    "# uncomment the line below, execute and see what happens"
   ]
  },
  {
   "cell_type": "code",
   "execution_count": null,
   "id": "da5390d8-5755-44c2-a0cd-4fe60d98a07d",
   "metadata": {},
   "outputs": [],
   "source": [
    "# %run ./data/fahr_to_celcius.py"
   ]
  },
  {
   "cell_type": "code",
   "execution_count": 23,
   "id": "759fea12-6704-481f-96f5-e2d0a2471b32",
   "metadata": {},
   "outputs": [],
   "source": [
    "# %load ./data/fahr_to_celcius.py"
   ]
  },
  {
   "cell_type": "markdown",
   "id": "f5b78b41-deda-4d5e-984f-a6d313f87c48",
   "metadata": {},
   "source": [
    "### Embed HTML\n",
    "\n",
    "You can embed html code in your markdown cell like this:"
   ]
  },
  {
   "cell_type": "code",
   "execution_count": 33,
   "id": "1dc768b1-8fa5-49ee-9fb7-4a4514de2d61",
   "metadata": {},
   "outputs": [
    {
     "data": {
      "text/html": [
       "<button type=\"button\" id=\"loading-example-btn\" data-loading-text=\"Loading...\" class=\"btn btn-primary\">\n",
       "  Loading state\n",
       "</button>\n"
      ],
      "text/plain": [
       "<IPython.core.display.HTML object>"
      ]
     },
     "metadata": {},
     "output_type": "display_data"
    }
   ],
   "source": [
    "%%HTML\n",
    "<button type=\"button\" id=\"loading-example-btn\" data-loading-text=\"Loading...\" class=\"btn btn-primary\">\n",
    "  Loading state\n",
    "</button>"
   ]
  },
  {
   "cell_type": "markdown",
   "id": "32672867-9434-4ede-95d9-8c8e9ed5e92b",
   "metadata": {},
   "source": [
    "### Embed Latex\n",
    "\n",
    "You can embed latex code, for example to add equations, in your markdown cell like this:"
   ]
  },
  {
   "cell_type": "code",
   "execution_count": 1,
   "id": "083135e6-b3f2-452f-a18a-45b03bba6025",
   "metadata": {},
   "outputs": [
    {
     "data": {
      "text/latex": [
       "\\begin{align} \n",
       "    \\frac{\\partial u}{\\partial t} + \\nabla \\cdot \\left( \\boldsymbol{v} u - D\\nabla u \\right) = f \n",
       "\\end{align}\n"
      ],
      "text/plain": [
       "<IPython.core.display.Latex object>"
      ]
     },
     "metadata": {},
     "output_type": "display_data"
    }
   ],
   "source": [
    "%%latex \n",
    "\\begin{align} \n",
    "    \\frac{\\partial u}{\\partial t} + \\nabla \\cdot \\left( \\boldsymbol{v} u - D\\nabla u \\right) = f \n",
    "\\end{align}"
   ]
  },
  {
   "cell_type": "markdown",
   "id": "614dae58-f978-43f0-8e4b-3d0a28a10cdb",
   "metadata": {},
   "source": [
    "Find more awesome magic here: https://arogozhnikov.github.io/2016/09/10/jupyter-features.html\n",
    "        "
   ]
  },
  {
   "cell_type": "markdown",
   "id": "8feddca2-7984-4303-a109-1429bdd64e08",
   "metadata": {},
   "source": [
    "---\n",
    "## Embed Youtube Videos & Images with Python code"
   ]
  },
  {
   "cell_type": "code",
   "execution_count": 32,
   "id": "88eb4672-f9cd-4eed-8349-2acac38ca07f",
   "metadata": {},
   "outputs": [
    {
     "data": {
      "image/jpeg": "[encoded data removed]",
      "text/html": [
       "\n",
       "        <iframe\n",
       "            width=\"400\"\n",
       "            height=\"300\"\n",
       "            src=\"https://www.youtube.com/embed/NGFO0kdbZmk\"\n",
       "            frameborder=\"0\"\n",
       "            allowfullscreen\n",
       "        ></iframe>\n",
       "        "
      ],
      "text/plain": [
       "<IPython.lib.display.YouTubeVideo at 0x10d2903d0>"
      ]
     },
     "execution_count": 32,
     "metadata": {},
     "output_type": "execute_result"
    }
   ],
   "source": [
    "from IPython.display import YouTubeVideo\n",
    "YouTubeVideo('NGFO0kdbZmk')"
   ]
  },
  {
   "cell_type": "code",
   "execution_count": 49,
   "id": "931c1ca7-af42-4e67-b346-918caa2c7d1a",
   "metadata": {},
   "outputs": [
    {
     "data": {
      "image/png": "[encoded data removed]",
      "text/plain": [
       "<IPython.core.display.Image object>"
      ]
     },
     "execution_count": 49,
     "metadata": {
      "image/png": {
       "height": 200,
       "width": 200
      }
     },
     "output_type": "execute_result"
    }
   ],
   "source": [
    "from IPython.display import Image\n",
    "Image(filename='./img/jupyter.png',width=200,height=200)"
   ]
  },
  {
   "cell_type": "markdown",
   "id": "80a76f04-c941-4adf-8fda-3c917c643b20",
   "metadata": {},
   "source": [
    "You can do much more with Jupyter Notebooks and there is a vast amount of tutorials, cheat sheets and documentation pages out there. Below some pages to start:\n",
    "\n",
    "- Nbviewer documentation pages: https://nbviewer.jupyter.org/github/ipython/ipython/blob/master/examples/IPython%20Kernel/Index.ipynb \n",
    "- Blog on Jupyter Notebook features: https://arogozhnikov.github.io/2016/09/10/jupyter-features.html\n"
   ]
  }
 ],
 "metadata": {
  "kernelspec": {
   "display_name": "Python 3",
   "language": "python",
   "name": "python3"
  },
  "language_info": {
   "codemirror_mode": {
    "name": "ipython",
    "version": 3
   },
   "file_extension": ".py",
   "mimetype": "text/x-python",
   "name": "python",
   "nbconvert_exporter": "python",
   "pygments_lexer": "ipython3",
   "version": "3.8.8"
  }
 },
 "nbformat": 4,
 "nbformat_minor": 5
}
